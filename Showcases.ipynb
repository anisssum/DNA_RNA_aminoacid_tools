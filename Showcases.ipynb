{
 "cells": [
  {
   "cell_type": "code",
   "execution_count": 11,
   "id": "dd395b13-23c2-431b-8b12-89c37df777a4",
   "metadata": {},
   "outputs": [],
   "source": [
    "import time\n",
    "from DNA_RNA_aminoacid_tools import run_genscan, DNASequence, RNASequence, AminoAcidSequence\n",
    "from custom_random_forest import RandomForestClassifierCustom\n",
    "from bio_files_processor import OpenFasta\n",
    "from sklearn.datasets import make_classification\n",
    "from sklearn.metrics import accuracy_score"
   ]
  },
  {
   "cell_type": "markdown",
   "id": "95abd732-3cb1-4fb1-adec-1deb19fe8cbc",
   "metadata": {},
   "source": [
    "Пример RandomForestClassifierCustom"
   ]
  },
  {
   "cell_type": "code",
   "execution_count": 10,
   "id": "a2c6f42d-b166-43a7-8903-7b1bb0398c13",
   "metadata": {},
   "outputs": [
    {
     "name": "stdout",
     "output_type": "stream",
     "text": [
      "Время выполнения fit с 1 потоком: 9.016872882843018\n",
      "Время выполнения predict с 1 потоком: 0.27010178565979004\n",
      "Время выполнения fit с 2 потоками: 5.020472526550293\n",
      "Время выполнения predict с 2 потоками: 0.16237664222717285\n",
      "Полученные предсказания совпадают: [ True  True  True ...  True  True  True]\n"
     ]
    }
   ],
   "source": [
    "X, y = make_classification(n_samples=100000)\n",
    "\n",
    "start_time = time.time()\n",
    "random_forest_1_thread = RandomForestClassifierCustom(max_depth=30, n_estimators=10, max_features=2, random_state=42)\n",
    "random_forest_1_thread.fit(X, y, n_jobs=1)\n",
    "fit_time_1_thread = time.time() - start_time\n",
    "\n",
    "start_time = time.time()\n",
    "predictions_1_thread = random_forest_1_thread.predict(X, n_jobs=1)\n",
    "predict_time_1_thread = time.time() - start_time\n",
    "\n",
    "start_time = time.time()\n",
    "random_forest_2_threads = RandomForestClassifierCustom(max_depth=30, n_estimators=10, max_features=2, random_state=42)\n",
    "random_forest_2_threads.fit(X, y, n_jobs=2)\n",
    "fit_time_2_threads = time.time() - start_time\n",
    "\n",
    "start_time = time.time()\n",
    "predictions_2_threads = random_forest_2_threads.predict(X, n_jobs=2)\n",
    "predict_time_2_threads = time.time() - start_time\n",
    "\n",
    "predictions_match = (predictions_1_thread == predictions_2_threads)\n",
    "\n",
    "print(\"Время выполнения fit с 1 потоком:\", fit_time_1_thread)\n",
    "print(\"Время выполнения predict с 1 потоком:\", predict_time_1_thread)\n",
    "print(\"Время выполнения fit с 2 потоками:\", fit_time_2_threads)\n",
    "print(\"Время выполнения predict с 2 потоками:\", predict_time_2_threads)\n",
    "print(\"Полученные предсказания совпадают:\", predictions_match)"
   ]
  },
  {
   "cell_type": "markdown",
   "id": "2c9c8015-f96c-4b61-a2f1-4fc995ddcc33",
   "metadata": {},
   "source": [
    "Пример OpenFasta"
   ]
  },
  {
   "cell_type": "code",
   "execution_count": 6,
   "id": "10fdbff5-0804-4d2b-b422-260a1b5949ff",
   "metadata": {},
   "outputs": [
    {
     "name": "stdout",
     "output_type": "stream",
     "text": [
      "FastaRecord(id='GTD323452', description='5S_rRNA NODE_272_length_223_cov_0.720238:18-129(+)', sequence='...')\n",
      "FastaRecord(id='GTD678345', description='16S_rRNA NODE_80_length_720_cov_1.094737:313-719(+)', sequence='...')\n",
      "FastaRecord(id='GTD174893', description='16S_rRNA NODE_1_length_2558431_cov_75.185164:2153860-2155398(+)', sequence='...')\n",
      "FastaRecord(id='GTD906783', description='16S_rRNA NODE_1_length_2558431_cov_75.185164:793941-795479(-)', sequence='...')\n",
      "FastaRecord(id='GTD129563', description='16S_rRNA NODE_4_length_428221_cov_75.638017:281055-282593(-)', sequence='...')\n"
     ]
    }
   ],
   "source": [
    "with OpenFasta(\"./data/example_fasta.fasta\") as file:\n",
    "    records = file.read_records()\n",
    "    for record in records:\n",
    "        print(record)"
   ]
  },
  {
   "cell_type": "markdown",
   "id": "14def490-10c5-402b-811c-398202ba462e",
   "metadata": {},
   "source": [
    "Пример run_genscan"
   ]
  },
  {
   "cell_type": "code",
   "execution_count": 9,
   "id": "ff22f53a-ebe0-47ef-bde5-00c521c99e62",
   "metadata": {},
   "outputs": [
    {
     "data": {
      "text/plain": [
       "GenscanOutput(status='Successful', cds_list=['MLLLARCLLLVLVSSLLVCSGLACGPGRGFGKRRHPKKLTPLAYKQFIPNVAEKTLGASGRYEGKISRNSERFKELTPNYNPDIIFKDEENTGADRLMTQRCKDKLNALAISVMNQWPGVKLRVTEGWDEDGHHSEESLHYEGRAVDITTSDRDRSKYGMLARLAVEAGFDWVYYESKAH', ''], intron_list=[['2.01', 11557, 11155], ['1.01', 642, 5906], ['1.02', 6169, 8737]], exon_list=[['2.01', 11453, 11556], ['2.02', 11156, 11304], ['1.01', 342, 641], ['1.02', 5907, 6168], ['1.03', 8738, 9564]])"
      ]
     },
     "execution_count": 9,
     "metadata": {},
     "output_type": "execute_result"
    }
   ],
   "source": [
    "run_genscan(sequence_file=\"./data/SHH_gene.txt\")"
   ]
  },
  {
   "cell_type": "markdown",
   "id": "7737bb79-b0ab-4d34-a44f-e6e760bf57a8",
   "metadata": {},
   "source": [
    "Пример DNASequence, RNASequence, AminoAcidSequence"
   ]
  },
  {
   "cell_type": "code",
   "execution_count": 13,
   "id": "c2db8f3a-4d96-460e-97cb-4408c69e2764",
   "metadata": {},
   "outputs": [
    {
     "name": "stdout",
     "output_type": "stream",
     "text": [
      "ДНК последовательность: ATCGATCG\n",
      "Транскрибированная РНК последовательность: UAGCUAGC\n",
      "Последовательность аминокислот: ARDEKO\n",
      "Заряд последовательности аминокислот: positive\n"
     ]
    }
   ],
   "source": [
    "dna_seq = DNASequence(\"ATCGATCG\")\n",
    "rna_seq = dna_seq.transcribe()\n",
    "amino_seq = AminoAcidSequence(\"ARDEKO\")\n",
    "charge = amino_seq.seq_charge()\n",
    "\n",
    "print(\"ДНК последовательность:\", dna_seq)\n",
    "print(\"Транскрибированная РНК последовательность:\", rna_seq)\n",
    "print(\"Последовательность аминокислот:\", amino_seq)\n",
    "print(\"Заряд последовательности аминокислот:\", charge)"
   ]
  }
 ],
 "metadata": {
  "kernelspec": {
   "display_name": "Python 3 (ipykernel)",
   "language": "python",
   "name": "python3"
  },
  "language_info": {
   "codemirror_mode": {
    "name": "ipython",
    "version": 3
   },
   "file_extension": ".py",
   "mimetype": "text/x-python",
   "name": "python",
   "nbconvert_exporter": "python",
   "pygments_lexer": "ipython3",
   "version": "3.11.5"
  }
 },
 "nbformat": 4,
 "nbformat_minor": 5
}
